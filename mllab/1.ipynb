{
 "cells": [
  {
   "cell_type": "code",
   "execution_count": 1,
   "metadata": {},
   "outputs": [],
   "source": [
    "import csv\n",
    "\n",
    "def loadCsv(filename):\n",
    "    lines = csv.reader(open(filename, \"rt\"))\n",
    "    dataset = list(lines)\n",
    "    for i in range(len(dataset)):\n",
    "        dataset[i] = dataset[i]\n",
    "    return dataset\n"
   ]
  },
  {
   "cell_type": "code",
   "execution_count": 2,
   "metadata": {},
   "outputs": [
    {
     "name": "stdout",
     "output_type": "stream",
     "text": [
      "['Size', 'Color', 'Shape']\n"
     ]
    }
   ],
   "source": [
    "attributes = ['Size','Color','Shape']\n",
    "print(attributes)\n",
    "num_attributes = len(attributes)"
   ]
  },
  {
   "cell_type": "code",
   "execution_count": 3,
   "metadata": {},
   "outputs": [
    {
     "name": "stdout",
     "output_type": "stream",
     "text": [
      "[['Big', 'Red', 'Circle', 'No'], ['Small', 'Red', 'Triangle', 'No'], ['Small', 'Red', 'Circle', 'Yes'], ['Big', 'Blue', 'Circle', 'No'], ['Small', 'Blue', 'Circle', 'Yes']]\n"
     ]
    }
   ],
   "source": [
    "filename = \"Shapes.csv\"\n",
    "dataset = loadCsv(filename)\n",
    "print(dataset)"
   ]
  },
  {
   "cell_type": "code",
   "execution_count": 4,
   "metadata": {},
   "outputs": [
    {
     "name": "stdout",
     "output_type": "stream",
     "text": [
      "Intial Hypothesis\n",
      "['0', '0', '0']\n"
     ]
    }
   ],
   "source": [
    "hypothesis=['0'] * num_attributes\n",
    "print(\"Intial Hypothesis\")\n",
    "print(hypothesis)\n"
   ]
  },
  {
   "cell_type": "code",
   "execution_count": 5,
   "metadata": {},
   "outputs": [
    {
     "name": "stdout",
     "output_type": "stream",
     "text": [
      "The Hypothesis are\n",
      "1 = ['0', '0', '0']\n",
      "2 = ['0', '0', '0']\n",
      "3 = ['Small', 'Red', 'Circle']\n",
      "4 = ['Small', 'Red', 'Circle']\n",
      "5 = ['Small', '?', 'Circle']\n"
     ]
    }
   ],
   "source": [
    "print(\"The Hypothesis are\")\n",
    "for i in range(len(dataset)):\n",
    "    target = dataset[i][-1]\n",
    "  \n",
    "    if(target == 'Yes'):\n",
    "        for j in range(num_attributes):        \n",
    "            if(hypothesis[j]=='0'):\n",
    "                hypothesis[j] = dataset[i][j]\n",
    "            if(hypothesis[j]!= dataset[i][j]):\n",
    "                hypothesis[j]='?'\n",
    "      \n",
    "    print(i+1,'=',hypothesis)"
   ]
  },
  {
   "cell_type": "code",
   "execution_count": 6,
   "metadata": {},
   "outputs": [
    {
     "name": "stdout",
     "output_type": "stream",
     "text": [
      "Final Hypothesis\n",
      "['Small', '?', 'Circle']\n"
     ]
    }
   ],
   "source": [
    "print(\"Final Hypothesis\")\n",
    "print(hypothesis)"
   ]
  },
  {
   "cell_type": "code",
   "execution_count": null,
   "metadata": {},
   "outputs": [],
   "source": []
  }
 ],
 "metadata": {
  "kernelspec": {
   "display_name": "Python 3",
   "language": "python",
   "name": "python3"
  },
  "language_info": {
   "codemirror_mode": {
    "name": "ipython",
    "version": 3
   },
   "file_extension": ".py",
   "mimetype": "text/x-python",
   "name": "python",
   "nbconvert_exporter": "python",
   "pygments_lexer": "ipython3",
   "version": "3.6.5"
  }
 },
 "nbformat": 4,
 "nbformat_minor": 2
}
